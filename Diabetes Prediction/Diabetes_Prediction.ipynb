{
  "nbformat": 4,
  "nbformat_minor": 0,
  "metadata": {
    "colab": {
      "provenance": [],
      "authorship_tag": "ABX9TyO7+/FZhTn4mUtjwik1Sc8g",
      "include_colab_link": true
    },
    "kernelspec": {
      "name": "python3",
      "display_name": "Python 3"
    },
    "language_info": {
      "name": "python"
    }
  },
  "cells": [
    {
      "cell_type": "markdown",
      "metadata": {
        "id": "view-in-github",
        "colab_type": "text"
      },
      "source": [
        "<a href=\"https://colab.research.google.com/github/Gweneal3/Machine_Learning_YT/blob/master/Diabetes%20Prediction/Diabetes_Prediction.ipynb\" target=\"_parent\"><img src=\"https://colab.research.google.com/assets/colab-badge.svg\" alt=\"Open In Colab\"/></a>"
      ]
    },
    {
      "cell_type": "code",
      "execution_count": 29,
      "metadata": {
        "id": "NDYTD4Ywn7ye"
      },
      "outputs": [],
      "source": [
        "import numpy as np\n",
        "import pandas as pd\n",
        "from sklearn.preprocessing import StandardScaler #Standardise the data to a common range\n",
        "from sklearn.model_selection import train_test_split\n",
        "from sklearn import svm\n",
        "from sklearn.metrics import accuracy_score"
      ]
    },
    {
      "cell_type": "markdown",
      "source": [
        "Data Collection and Analysis\n",
        "\n",
        "PIMA Diabetes Dataset"
      ],
      "metadata": {
        "id": "CWpAN3Ql4s6l"
      }
    },
    {
      "cell_type": "code",
      "source": [
        "# loading diabetes Dataset\n",
        "diabetes_dataset = pd.read_csv(\"./diabetes.csv\");"
      ],
      "metadata": {
        "id": "Pqhrqwq24sle"
      },
      "execution_count": 30,
      "outputs": []
    },
    {
      "cell_type": "code",
      "source": [
        "print(diabetes_dataset.head())"
      ],
      "metadata": {
        "colab": {
          "base_uri": "https://localhost:8080/"
        },
        "id": "iEhTtD945Jps",
        "outputId": "338d4b8c-b462-4773-c93b-b0a6bbfaf5a5"
      },
      "execution_count": 31,
      "outputs": [
        {
          "output_type": "stream",
          "name": "stdout",
          "text": [
            "   Pregnancies  Glucose  BloodPressure  SkinThickness  Insulin   BMI  \\\n",
            "0            6      148             72             35        0  33.6   \n",
            "1            1       85             66             29        0  26.6   \n",
            "2            8      183             64              0        0  23.3   \n",
            "3            1       89             66             23       94  28.1   \n",
            "4            0      137             40             35      168  43.1   \n",
            "\n",
            "   DiabetesPedigreeFunction  Age  Outcome  \n",
            "0                     0.627   50        1  \n",
            "1                     0.351   31        0  \n",
            "2                     0.672   32        1  \n",
            "3                     0.167   21        0  \n",
            "4                     2.288   33        1  \n"
          ]
        }
      ]
    },
    {
      "cell_type": "code",
      "source": [
        "# number of rows and columns in the dataset\n",
        "print(diabetes_dataset.shape);"
      ],
      "metadata": {
        "colab": {
          "base_uri": "https://localhost:8080/"
        },
        "id": "C8k8oFsZ5Wgt",
        "outputId": "d676b279-c69c-43a1-9f5c-7cff6ca18d2c"
      },
      "execution_count": 32,
      "outputs": [
        {
          "output_type": "stream",
          "name": "stdout",
          "text": [
            "(768, 9)\n"
          ]
        }
      ]
    },
    {
      "cell_type": "code",
      "source": [
        "# getting statistical measures of the data\n",
        "print(diabetes_dataset.describe());"
      ],
      "metadata": {
        "colab": {
          "base_uri": "https://localhost:8080/"
        },
        "id": "5i-mU_dJ5r80",
        "outputId": "1700de29-ad71-43cd-b0e7-5d2e18d261a9"
      },
      "execution_count": 33,
      "outputs": [
        {
          "output_type": "stream",
          "name": "stdout",
          "text": [
            "       Pregnancies     Glucose  BloodPressure  SkinThickness     Insulin  \\\n",
            "count   768.000000  768.000000     768.000000     768.000000  768.000000   \n",
            "mean      3.845052  120.894531      69.105469      20.536458   79.799479   \n",
            "std       3.369578   31.972618      19.355807      15.952218  115.244002   \n",
            "min       0.000000    0.000000       0.000000       0.000000    0.000000   \n",
            "25%       1.000000   99.000000      62.000000       0.000000    0.000000   \n",
            "50%       3.000000  117.000000      72.000000      23.000000   30.500000   \n",
            "75%       6.000000  140.250000      80.000000      32.000000  127.250000   \n",
            "max      17.000000  199.000000     122.000000      99.000000  846.000000   \n",
            "\n",
            "              BMI  DiabetesPedigreeFunction         Age     Outcome  \n",
            "count  768.000000                768.000000  768.000000  768.000000  \n",
            "mean    31.992578                  0.471876   33.240885    0.348958  \n",
            "std      7.884160                  0.331329   11.760232    0.476951  \n",
            "min      0.000000                  0.078000   21.000000    0.000000  \n",
            "25%     27.300000                  0.243750   24.000000    0.000000  \n",
            "50%     32.000000                  0.372500   29.000000    0.000000  \n",
            "75%     36.600000                  0.626250   41.000000    1.000000  \n",
            "max     67.100000                  2.420000   81.000000    1.000000  \n"
          ]
        }
      ]
    },
    {
      "cell_type": "code",
      "source": [
        "# get the particular column by column name\n",
        "print(diabetes_dataset['Outcome'].value_counts()); # how many 1 and 0"
      ],
      "metadata": {
        "colab": {
          "base_uri": "https://localhost:8080/"
        },
        "id": "um6hFsk159Mc",
        "outputId": "3755eff5-9b6b-46d6-d09c-3f3dc7b1aa52"
      },
      "execution_count": 34,
      "outputs": [
        {
          "output_type": "stream",
          "name": "stdout",
          "text": [
            "0    500\n",
            "1    268\n",
            "Name: Outcome, dtype: int64\n"
          ]
        }
      ]
    },
    {
      "cell_type": "markdown",
      "source": [
        "0 --> Non-Diabetic\n",
        "\n",
        "1 --> Diabetic"
      ],
      "metadata": {
        "id": "nzJkcy6e8jFY"
      }
    },
    {
      "cell_type": "code",
      "source": [
        "print(diabetes_dataset.groupby('Outcome').mean());"
      ],
      "metadata": {
        "colab": {
          "base_uri": "https://localhost:8080/"
        },
        "id": "dJVTjpXw8iF1",
        "outputId": "0e1bc475-0c05-4c69-ee73-5e0320ec2c5d"
      },
      "execution_count": 35,
      "outputs": [
        {
          "output_type": "stream",
          "name": "stdout",
          "text": [
            "         Pregnancies     Glucose  BloodPressure  SkinThickness     Insulin  \\\n",
            "Outcome                                                                      \n",
            "0           3.298000  109.980000      68.184000      19.664000   68.792000   \n",
            "1           4.865672  141.257463      70.824627      22.164179  100.335821   \n",
            "\n",
            "               BMI  DiabetesPedigreeFunction        Age  \n",
            "Outcome                                                  \n",
            "0        30.304200                  0.429734  31.190000  \n",
            "1        35.142537                  0.550500  37.067164  \n"
          ]
        }
      ]
    },
    {
      "cell_type": "code",
      "source": [
        "X = diabetes_dataset.drop(columns = 'Outcome', axis=1); # axis 1 = column, axis 0 = row\n",
        "Y = diabetes_dataset['Outcome'];"
      ],
      "metadata": {
        "id": "-omIeLZr89kc"
      },
      "execution_count": 36,
      "outputs": []
    },
    {
      "cell_type": "markdown",
      "source": [
        "Data Standardisation"
      ],
      "metadata": {
        "id": "dSqHzZ-Q9ZkM"
      }
    },
    {
      "cell_type": "code",
      "source": [
        "scaler = StandardScaler();"
      ],
      "metadata": {
        "id": "bcEGvjGx9Wsl"
      },
      "execution_count": 37,
      "outputs": []
    },
    {
      "cell_type": "code",
      "source": [
        "scaler.fit(X.values);"
      ],
      "metadata": {
        "id": "zCBPEcjj9kvM"
      },
      "execution_count": 38,
      "outputs": []
    },
    {
      "cell_type": "code",
      "source": [
        "standardised_data = scaler.transform(X);"
      ],
      "metadata": {
        "id": "yeVUaWFL9ojk",
        "colab": {
          "base_uri": "https://localhost:8080/"
        },
        "outputId": "8622f06d-1977-4fd9-9d05-b0cfc037ac4d"
      },
      "execution_count": 39,
      "outputs": [
        {
          "output_type": "stream",
          "name": "stderr",
          "text": [
            "/usr/local/lib/python3.9/dist-packages/sklearn/base.py:432: UserWarning: X has feature names, but StandardScaler was fitted without feature names\n",
            "  warnings.warn(\n"
          ]
        }
      ]
    },
    {
      "cell_type": "code",
      "source": [
        "print(standardised_data);"
      ],
      "metadata": {
        "colab": {
          "base_uri": "https://localhost:8080/"
        },
        "id": "H4utiJPu9x-U",
        "outputId": "2be306e2-f3bb-4728-f245-ecbf89e0c71c"
      },
      "execution_count": 40,
      "outputs": [
        {
          "output_type": "stream",
          "name": "stdout",
          "text": [
            "[[ 0.63994726  0.84832379  0.14964075 ...  0.20401277  0.46849198\n",
            "   1.4259954 ]\n",
            " [-0.84488505 -1.12339636 -0.16054575 ... -0.68442195 -0.36506078\n",
            "  -0.19067191]\n",
            " [ 1.23388019  1.94372388 -0.26394125 ... -1.10325546  0.60439732\n",
            "  -0.10558415]\n",
            " ...\n",
            " [ 0.3429808   0.00330087  0.14964075 ... -0.73518964 -0.68519336\n",
            "  -0.27575966]\n",
            " [-0.84488505  0.1597866  -0.47073225 ... -0.24020459 -0.37110101\n",
            "   1.17073215]\n",
            " [-0.84488505 -0.8730192   0.04624525 ... -0.20212881 -0.47378505\n",
            "  -0.87137393]]\n"
          ]
        }
      ]
    },
    {
      "cell_type": "code",
      "source": [
        "X = standardised_data;"
      ],
      "metadata": {
        "id": "_1XXdChC95QT"
      },
      "execution_count": 41,
      "outputs": []
    },
    {
      "cell_type": "markdown",
      "source": [
        "Train Test Split"
      ],
      "metadata": {
        "id": "8j3ePF9Z-BnE"
      }
    },
    {
      "cell_type": "code",
      "source": [
        "X_train, X_test, Y_train, Y_test = train_test_split(X, Y, test_size = 0.2, stratify = Y, random_state = 2);"
      ],
      "metadata": {
        "id": "qvDZp0Rd-De8"
      },
      "execution_count": 42,
      "outputs": []
    },
    {
      "cell_type": "code",
      "source": [
        "print(X.shape, X_train.shape, X_test.shape)"
      ],
      "metadata": {
        "colab": {
          "base_uri": "https://localhost:8080/"
        },
        "id": "_0yrjz_S-Pd0",
        "outputId": "00b7c621-f479-4c0c-8070-bf70461ebcf9"
      },
      "execution_count": 43,
      "outputs": [
        {
          "output_type": "stream",
          "name": "stdout",
          "text": [
            "(768, 8) (614, 8) (154, 8)\n"
          ]
        }
      ]
    },
    {
      "cell_type": "markdown",
      "source": [
        "Training Model"
      ],
      "metadata": {
        "id": "Cu9w7EFn-skz"
      }
    },
    {
      "cell_type": "code",
      "source": [
        "classifier = svm.SVC(kernel='linear');"
      ],
      "metadata": {
        "id": "u5nqCTwe-pRE"
      },
      "execution_count": 44,
      "outputs": []
    },
    {
      "cell_type": "code",
      "source": [
        "classifier.fit(X_train,Y_train);"
      ],
      "metadata": {
        "id": "BoEc-K56-2id"
      },
      "execution_count": 45,
      "outputs": []
    },
    {
      "cell_type": "markdown",
      "source": [
        "Module Evaluation"
      ],
      "metadata": {
        "id": "rER1w_FT-9Dk"
      }
    },
    {
      "cell_type": "code",
      "source": [
        "# Accuracy Training data\n",
        "X_train_prediction = classifier.predict(X_train);\n",
        "X_train_accuracy = accuracy_score(X_train_prediction, Y_train);"
      ],
      "metadata": {
        "id": "bxXBtxDD--33"
      },
      "execution_count": 46,
      "outputs": []
    },
    {
      "cell_type": "code",
      "source": [
        "print(X_train_accuracy);"
      ],
      "metadata": {
        "colab": {
          "base_uri": "https://localhost:8080/"
        },
        "id": "5Eb8P4ZV_TY8",
        "outputId": "c0d19139-1a0a-4668-ce59-9668d90f6fcc"
      },
      "execution_count": 47,
      "outputs": [
        {
          "output_type": "stream",
          "name": "stdout",
          "text": [
            "0.7866449511400652\n"
          ]
        }
      ]
    },
    {
      "cell_type": "code",
      "source": [
        "# Accuracy Test data\n",
        "X_test_prediction = classifier.predict(X_test);\n",
        "X_test_accuracy = accuracy_score(X_test_prediction, Y_test);"
      ],
      "metadata": {
        "id": "QPr52ECO_h8F"
      },
      "execution_count": 48,
      "outputs": []
    },
    {
      "cell_type": "code",
      "source": [
        "print(X_test_accuracy);"
      ],
      "metadata": {
        "colab": {
          "base_uri": "https://localhost:8080/"
        },
        "id": "7JwUAlQP_o6O",
        "outputId": "9b5ac078-28bd-42cc-e3b0-9754355f5772"
      },
      "execution_count": 49,
      "outputs": [
        {
          "output_type": "stream",
          "name": "stdout",
          "text": [
            "0.7727272727272727\n"
          ]
        }
      ]
    },
    {
      "cell_type": "markdown",
      "source": [
        "Make Predictive System"
      ],
      "metadata": {
        "id": "LCXTNAPv_wvf"
      }
    },
    {
      "cell_type": "code",
      "source": [
        "input_data = (1,89,66,23,94,28.1,0.167,21);\n",
        "\n",
        "input_data_as_numpy_array = np.asarray(input_data);\n",
        "\n",
        "input_data_reshaped = input_data_as_numpy_array.reshape(1,-1);\n",
        "\n",
        "# standardised input data\n",
        "std_data = scaler.transform(input_data_reshaped);\n",
        "\n",
        "prediction = classifier.predict(std_data);\n",
        "\n",
        "if(prediction[0] == 1):\n",
        "  print(\"This person is diabetic\");\n",
        "else:\n",
        "  print(\"This person is not diabetic\");"
      ],
      "metadata": {
        "colab": {
          "base_uri": "https://localhost:8080/"
        },
        "id": "bAmFuBCb_2lk",
        "outputId": "acbad545-60f6-41b3-9945-2aec7dbeb57b"
      },
      "execution_count": 50,
      "outputs": [
        {
          "output_type": "stream",
          "name": "stdout",
          "text": [
            "This person is not diabetic\n"
          ]
        }
      ]
    }
  ]
}