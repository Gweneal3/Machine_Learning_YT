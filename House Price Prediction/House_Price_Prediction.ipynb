{
  "nbformat": 4,
  "nbformat_minor": 0,
  "metadata": {
    "colab": {
      "provenance": [],
      "authorship_tag": "ABX9TyNnKAT/MgRBG9K9YBA5DevB",
      "include_colab_link": true
    },
    "kernelspec": {
      "name": "python3",
      "display_name": "Python 3"
    },
    "language_info": {
      "name": "python"
    }
  },
  "cells": [
    {
      "cell_type": "markdown",
      "metadata": {
        "id": "view-in-github",
        "colab_type": "text"
      },
      "source": [
        "<a href=\"https://colab.research.google.com/github/Gweneal3/Machine_Learning_YT/blob/master/House%20Price%20Prediction/House_Price_Prediction.ipynb\" target=\"_parent\"><img src=\"https://colab.research.google.com/assets/colab-badge.svg\" alt=\"Open In Colab\"/></a>"
      ]
    },
    {
      "cell_type": "code",
      "source": [
        "pip install scikit-learn==1.1.3"
      ],
      "metadata": {
        "id": "Gj_uhdUr6z6e"
      },
      "execution_count": null,
      "outputs": []
    },
    {
      "cell_type": "code",
      "execution_count": null,
      "metadata": {
        "id": "6lIMw4Hy0iOA"
      },
      "outputs": [],
      "source": [
        "import numpy as np;\n",
        "import pandas as pd;\n",
        "import matplotlib.pyplot as plt;\n",
        "import seaborn as sns;\n",
        "import sklearn.datasets;\n",
        "from sklearn.datasets import fetch_california_housing\n",
        "from sklearn.model_selection import train_test_split;\n",
        "from xgboost import XGBRegressor;\n",
        "from sklearn import metrics;"
      ]
    },
    {
      "cell_type": "markdown",
      "source": [
        "Importing the Boston/California House Price Dataset"
      ],
      "metadata": {
        "id": "4rhIsWr63dX0"
      }
    },
    {
      "cell_type": "code",
      "source": [
        "# Boston\n",
        "boston_house_price_dataset = sklearn.datasets.load_boston();\n",
        "\n",
        "\n",
        "# California\n",
        "# california_house_price_dataset = fetch_california_housing();"
      ],
      "metadata": {
        "id": "b06ujTiO32-L"
      },
      "execution_count": null,
      "outputs": []
    },
    {
      "cell_type": "code",
      "source": [
        "print(boston_house_price_dataset);"
      ],
      "metadata": {
        "id": "4yjKB6hZ37US"
      },
      "execution_count": null,
      "outputs": []
    },
    {
      "cell_type": "code",
      "source": [
        "# print(california_house_price_dataset);"
      ],
      "metadata": {
        "id": "QcYhFjJj4pkD"
      },
      "execution_count": null,
      "outputs": []
    },
    {
      "cell_type": "code",
      "source": [
        "# Loading dataset to Pandas DataFrame\n",
        "boston_house_price_dataframe = pd.DataFrame(boston_house_price_dataset.data, columns=boston_house_price_dataset.feature_names);\n",
        "# california_house_price_dataframe = pd.DataFrame(california_house_price_dataset.data, columns=california_house_price_dataset.feature_names);"
      ],
      "metadata": {
        "id": "BbQlJX757obE"
      },
      "execution_count": null,
      "outputs": []
    },
    {
      "cell_type": "code",
      "source": [
        "# add the target(price) column to the DataFrame\n",
        "boston_house_price_dataframe['PRICE'] = boston_house_price_dataset.target;\n",
        "# california_house_price_dataframe['PRICE'] = california_house_price_dataset.target;"
      ],
      "metadata": {
        "id": "EjIWsYYN8vN6"
      },
      "execution_count": null,
      "outputs": []
    },
    {
      "cell_type": "code",
      "source": [
        "print(boston_house_price_dataframe.head());"
      ],
      "metadata": {
        "colab": {
          "base_uri": "https://localhost:8080/"
        },
        "id": "SDBs27Xh8VYa",
        "outputId": "fc6bdc80-7370-4f5c-a8b4-495882ce29ba"
      },
      "execution_count": null,
      "outputs": [
        {
          "output_type": "stream",
          "name": "stdout",
          "text": [
            "      CRIM    ZN  INDUS  CHAS    NOX     RM   AGE     DIS  RAD    TAX  \\\n",
            "0  0.00632  18.0   2.31   0.0  0.538  6.575  65.2  4.0900  1.0  296.0   \n",
            "1  0.02731   0.0   7.07   0.0  0.469  6.421  78.9  4.9671  2.0  242.0   \n",
            "2  0.02729   0.0   7.07   0.0  0.469  7.185  61.1  4.9671  2.0  242.0   \n",
            "3  0.03237   0.0   2.18   0.0  0.458  6.998  45.8  6.0622  3.0  222.0   \n",
            "4  0.06905   0.0   2.18   0.0  0.458  7.147  54.2  6.0622  3.0  222.0   \n",
            "\n",
            "   PTRATIO       B  LSTAT  PRICE  \n",
            "0     15.3  396.90   4.98   24.0  \n",
            "1     17.8  396.90   9.14   21.6  \n",
            "2     17.8  392.83   4.03   34.7  \n",
            "3     18.7  394.63   2.94   33.4  \n",
            "4     18.7  396.90   5.33   36.2  \n"
          ]
        }
      ]
    },
    {
      "cell_type": "code",
      "source": [
        "# print(california_house_price_dataframe.head());"
      ],
      "metadata": {
        "id": "AU9Z0rIu8dyp"
      },
      "execution_count": null,
      "outputs": []
    },
    {
      "cell_type": "code",
      "source": [
        "print(boston_house_price_dataframe.shape);"
      ],
      "metadata": {
        "colab": {
          "base_uri": "https://localhost:8080/"
        },
        "id": "km5uQgaz9azD",
        "outputId": "37b9404f-9ec1-42a5-a56e-d1d5effb80f3"
      },
      "execution_count": null,
      "outputs": [
        {
          "output_type": "stream",
          "name": "stdout",
          "text": [
            "(506, 14)\n"
          ]
        }
      ]
    },
    {
      "cell_type": "code",
      "source": [
        "# Check for missing value\n",
        "boston_house_price_dataframe.isnull().sum();"
      ],
      "metadata": {
        "id": "FcWCOUDx9hto"
      },
      "execution_count": null,
      "outputs": []
    },
    {
      "cell_type": "code",
      "source": [
        "print(boston_house_price_dataframe.describe());"
      ],
      "metadata": {
        "colab": {
          "base_uri": "https://localhost:8080/"
        },
        "id": "eEgPY1tO-NMS",
        "outputId": "6257be03-a167-4dda-f3c9-1f310f77b48b"
      },
      "execution_count": null,
      "outputs": [
        {
          "output_type": "stream",
          "name": "stdout",
          "text": [
            "             CRIM          ZN       INDUS        CHAS         NOX          RM  \\\n",
            "count  506.000000  506.000000  506.000000  506.000000  506.000000  506.000000   \n",
            "mean     3.613524   11.363636   11.136779    0.069170    0.554695    6.284634   \n",
            "std      8.601545   23.322453    6.860353    0.253994    0.115878    0.702617   \n",
            "min      0.006320    0.000000    0.460000    0.000000    0.385000    3.561000   \n",
            "25%      0.082045    0.000000    5.190000    0.000000    0.449000    5.885500   \n",
            "50%      0.256510    0.000000    9.690000    0.000000    0.538000    6.208500   \n",
            "75%      3.677083   12.500000   18.100000    0.000000    0.624000    6.623500   \n",
            "max     88.976200  100.000000   27.740000    1.000000    0.871000    8.780000   \n",
            "\n",
            "              AGE         DIS         RAD         TAX     PTRATIO           B  \\\n",
            "count  506.000000  506.000000  506.000000  506.000000  506.000000  506.000000   \n",
            "mean    68.574901    3.795043    9.549407  408.237154   18.455534  356.674032   \n",
            "std     28.148861    2.105710    8.707259  168.537116    2.164946   91.294864   \n",
            "min      2.900000    1.129600    1.000000  187.000000   12.600000    0.320000   \n",
            "25%     45.025000    2.100175    4.000000  279.000000   17.400000  375.377500   \n",
            "50%     77.500000    3.207450    5.000000  330.000000   19.050000  391.440000   \n",
            "75%     94.075000    5.188425   24.000000  666.000000   20.200000  396.225000   \n",
            "max    100.000000   12.126500   24.000000  711.000000   22.000000  396.900000   \n",
            "\n",
            "            LSTAT       PRICE  \n",
            "count  506.000000  506.000000  \n",
            "mean    12.653063   22.532806  \n",
            "std      7.141062    9.197104  \n",
            "min      1.730000    5.000000  \n",
            "25%      6.950000   17.025000  \n",
            "50%     11.360000   21.200000  \n",
            "75%     16.955000   25.000000  \n",
            "max     37.970000   50.000000  \n"
          ]
        }
      ]
    },
    {
      "cell_type": "markdown",
      "source": [
        "Understanding the correlation between various features in the dataset"
      ],
      "metadata": {
        "id": "-YnrXr3r-muq"
      }
    },
    {
      "cell_type": "markdown",
      "source": [
        "1. Positive Correlation?\n",
        "2. Negative Correlation?"
      ],
      "metadata": {
        "id": "W1G52Vx4-ysI"
      }
    },
    {
      "cell_type": "code",
      "source": [
        "correlation = boston_house_price_dataframe.corr();"
      ],
      "metadata": {
        "id": "1Z0BQgen-wRY"
      },
      "execution_count": null,
      "outputs": []
    },
    {
      "cell_type": "code",
      "source": [
        "print(correlation);"
      ],
      "metadata": {
        "id": "suw_QQsQ_S2C"
      },
      "execution_count": null,
      "outputs": []
    },
    {
      "cell_type": "markdown",
      "source": [
        "Construct heatmap to understand correlation"
      ],
      "metadata": {
        "id": "R8zTIy-5_eNX"
      }
    },
    {
      "cell_type": "code",
      "source": [
        "plt.figure(figsize=(10,10));\n",
        "sns.heatmap(correlation, cbar=True,square=True,fmt='.1f',annot=True,annot_kws={'size':8},cmap='Blues');"
      ],
      "metadata": {
        "colab": {
          "base_uri": "https://localhost:8080/",
          "height": 578
        },
        "id": "Xdm6WozB_jXO",
        "outputId": "44a5074a-7df4-4248-f16a-6ec9f4454787"
      },
      "execution_count": null,
      "outputs": [
        {
          "output_type": "display_data",
          "data": {
            "text/plain": [
              "<Figure size 720x720 with 2 Axes>"
            ],
            "image/png": "[encoded data removed]"
          },
          "metadata": {
            "needs_background": "light"
          }
        }
      ]
    },
    {
      "cell_type": "code",
      "source": [
        "X = boston_house_price_dataframe.drop(['PRICE'], axis=1);\n",
        "Y = boston_house_price_dataframe['PRICE'];"
      ],
      "metadata": {
        "id": "j1VmFT7fAfqQ"
      },
      "execution_count": null,
      "outputs": []
    },
    {
      "cell_type": "code",
      "source": [
        "X_train, X_test, Y_train, Y_test = train_test_split(X, Y, test_size=0.2, random_state=1);"
      ],
      "metadata": {
        "id": "kyboBgGdBVWx"
      },
      "execution_count": null,
      "outputs": []
    },
    {
      "cell_type": "code",
      "source": [
        "print(X.shape, X_train.shape, X_test.shape);"
      ],
      "metadata": {
        "colab": {
          "base_uri": "https://localhost:8080/"
        },
        "id": "WLGI2VP_B34f",
        "outputId": "b7b5357b-e2a1-4553-bc68-292eed165f70"
      },
      "execution_count": null,
      "outputs": [
        {
          "output_type": "stream",
          "name": "stdout",
          "text": [
            "(506, 13) (404, 13) (102, 13)\n"
          ]
        }
      ]
    },
    {
      "cell_type": "markdown",
      "source": [
        "Model Training\n",
        "\n",
        "XGBoost Regressor - Type of Decision Tree"
      ],
      "metadata": {
        "id": "lBUyQDkkCJDH"
      }
    },
    {
      "cell_type": "code",
      "source": [
        "model = XGBRegressor();"
      ],
      "metadata": {
        "id": "4ZYaeViWB-JW"
      },
      "execution_count": null,
      "outputs": []
    },
    {
      "cell_type": "code",
      "source": [
        "model.fit(X_train,Y_train);"
      ],
      "metadata": {
        "id": "5pFqTGzsDhx_"
      },
      "execution_count": null,
      "outputs": []
    },
    {
      "cell_type": "markdown",
      "source": [
        "Evaluation"
      ],
      "metadata": {
        "id": "C3FDgVFeDqjm"
      }
    },
    {
      "cell_type": "code",
      "source": [
        "training_data_prediction = model.predict(X_train);\n",
        "print(training_data_prediction);"
      ],
      "metadata": {
        "colab": {
          "base_uri": "https://localhost:8080/"
        },
        "id": "mze7EdVWDo1I",
        "outputId": "ee5f9af4-5074-46cc-903f-275d2fd5ed3a"
      },
      "execution_count": null,
      "outputs": [
        {
          "output_type": "stream",
          "name": "stdout",
          "text": [
            "[25.245571  23.32921    7.210682  21.154896  11.702352  26.999006\n",
            " 29.584614  26.544731  43.50524   23.625568  11.002917  33.40945\n",
            " 36.007214  36.40028   19.037712  20.18499   34.905746  49.99532\n",
            " 19.321676  14.898901  26.617535  19.894657  24.802687  21.180086\n",
            " 23.923895  20.586973  23.074522  27.950964  19.987543  23.094906\n",
            " 25.010534   9.705043  23.892748  36.09172   13.418543  12.731809\n",
            " 39.79168   10.393237  20.598629  17.775103  19.482315  23.710855\n",
            " 28.513987  24.29506   23.771362  19.072584  28.377209  20.49642\n",
            " 33.825535  14.507262  20.39619   16.009405  13.304443  30.793392\n",
            " 27.49651   24.428276  24.389343  25.122246  43.8164    21.898586\n",
            " 26.22088   14.255268  20.789656  20.105751  23.099632  13.068087\n",
            " 16.195873  24.834087  20.208426  22.484184  14.791592  28.696594\n",
            " 20.114979  23.412987  31.992868  19.124737  49.992138  20.895212\n",
            " 21.69236   21.999992  17.206669  30.303902  12.287807  21.39682\n",
            " 20.501791  35.200222  19.602581  22.003605  21.689674  14.086667\n",
            " 21.088537  15.00701   11.9128065 19.984388  41.284725  18.702425\n",
            " 50.006096  49.998714  18.385103  17.894514  28.100218  16.111639\n",
            " 17.235275  28.587082  23.623482  20.418549  19.594658  18.8178\n",
            " 22.577982  17.710707  30.53399   18.24904   20.639639  24.39996\n",
            " 17.3008    13.326973  22.788692  20.502954  21.194191  18.78094\n",
            " 18.910189  18.230228  23.098423  32.71051   23.99935   10.215775\n",
            " 19.499582  33.106304  13.388557  15.1955385 24.802052  24.24765\n",
            "  9.519843  24.201674  18.508362  43.98555   49.996807  24.680128\n",
            " 21.516027   8.403035  21.78793   49.998203  23.771406  32.39565\n",
            " 24.405802  17.586105  29.789497   9.629779  16.695997  13.8042\n",
            " 32.004784  16.108585   8.289033  26.604982  14.297345  15.001556\n",
            " 28.400133  32.204517  17.095285  29.387379  10.39832   16.81697\n",
            " 31.507769  27.471685  46.689636  27.428337  17.180197  23.359629\n",
            " 31.617931  13.802507  21.99958   16.983261  24.799078  24.29832\n",
            " 25.20803   21.238384  20.61462   18.711704   5.613344  19.308567\n",
            " 19.816687  22.295553  20.287615  12.028596  23.885447  16.49773\n",
            " 13.206723  33.197372  10.501575   7.5048037 27.450851  18.397408\n",
            " 23.21327   13.791749  35.40658   22.976023  25.000204   7.2061105\n",
            " 14.401987   8.780611  22.698383  13.090879  18.963488  24.983158\n",
            "  8.501394  16.099056  28.98103   23.096695  19.308617  33.099937\n",
            " 24.582895  23.00888   15.210551  27.089996  19.552542  24.460632\n",
            " 20.26648   34.888847  17.10871   15.600463  26.397736  22.621044\n",
            " 15.595059  29.001913  21.227331  22.416351  13.495529  11.671535\n",
            " 17.099998  31.736755  28.654648  24.696526  18.99535    7.224414\n",
            " 13.805055  12.783236  36.168663  38.681366  18.536562  29.062824\n",
            " 20.374943  11.307514  17.43838    8.700741  18.905281  23.208126\n",
            " 22.137459  29.109512  34.58174   24.992807  23.187595  37.892902\n",
            "  7.004926  18.195997  19.325453  26.717451  19.198877  30.102848\n",
            " 20.602144  49.99454   18.683456  20.591879  31.083271  14.002027\n",
            " 17.764019  42.294308  15.306528  18.501596  21.354275  14.997089\n",
            " 20.685452  21.397749  21.708717  22.01213   31.598022  22.024744\n",
            " 10.191377  22.605482  20.009838  17.79616   13.597596  11.773635\n",
            " 19.39328   21.427917  32.920986  20.793856  30.985199  17.525541\n",
            " 15.406584  10.804339  34.683525  25.026157  48.81037   42.79827\n",
            " 19.50153   30.110062  22.198988  50.006954  23.106049  32.49651\n",
            " 19.600311  14.910648  26.389574  36.957565  24.09423   24.493849\n",
            " 23.708567   6.9975147 22.253477  23.338387  15.58326   13.387992\n",
            " 30.706673  22.284441  17.403036  50.01416   22.897459  19.690071\n",
            " 15.602127  17.805304  10.900939  35.10736   15.701772  49.989758\n",
            " 22.802149  19.903727  20.10049   19.377815  46.00134   23.145538\n",
            " 37.58125   23.115402  13.892105  33.323578  32.995598  19.906973\n",
            " 20.316751  49.98246   19.393984  19.480566  22.80591   16.602104\n",
            " 19.999386  24.694563  45.401737  33.398872  21.387144  19.392666\n",
            "  5.0454464  7.4002113 20.085537  12.727631  20.287464  14.121794\n",
            " 18.30175   19.887678  23.305897  36.46754   20.000673  17.807898\n",
            "  8.794243  21.6059    21.593664  15.202687  19.801857  21.044683\n",
            " 27.086187  16.858004  14.393107  22.468117  18.600527  20.073027\n",
            " 19.649809  25.012434  17.433014  19.717339   4.987939  16.30734\n",
            " 13.10698   29.595028  13.075437  19.095324  12.078261  21.690704\n",
            " 21.90341   33.199932  29.90732   35.391438  15.074145  31.495838\n",
            " 21.693008  16.398607  14.334121  11.802701  14.101409  21.105223\n",
            " 18.343138  48.511383  13.876459  20.894222  22.81594   12.522005\n",
            " 24.028767  20.946033 ]\n"
          ]
        }
      ]
    },
    {
      "cell_type": "code",
      "source": [
        "# R Squared Error\n",
        "score_1 = metrics.r2_score(Y_train, training_data_prediction);\n",
        "print(score_1); # <5\n",
        "\n",
        "# Mean Absolute Error\n",
        "score_2 = metrics.mean_absolute_error(Y_train, training_data_prediction);\n",
        "print(score_2); # <5"
      ],
      "metadata": {
        "colab": {
          "base_uri": "https://localhost:8080/"
        },
        "id": "R870Efu-EBqY",
        "outputId": "d8edf327-42e5-466f-bdb3-c55480980d92"
      },
      "execution_count": null,
      "outputs": [
        {
          "output_type": "stream",
          "name": "stdout",
          "text": [
            "0.9999952977725205\n",
            "0.01375658535721277\n"
          ]
        }
      ]
    },
    {
      "cell_type": "markdown",
      "source": [
        "Visualising Actual and Predicted"
      ],
      "metadata": {
        "id": "JeqkQDEwFohd"
      }
    },
    {
      "cell_type": "code",
      "source": [
        "plt.scatter(Y_train, training_data_prediction);\n",
        "plt.xlabel(\"Actual Price\");\n",
        "plt.ylabel(\"Predicted Price\");\n",
        "plt.title(\"Actual Price vs Predicted Price\");"
      ],
      "metadata": {
        "colab": {
          "base_uri": "https://localhost:8080/",
          "height": 295
        },
        "id": "9MuFX1B4FsEd",
        "outputId": "bfece357-3125-47a2-e16a-2a372916df09"
      },
      "execution_count": null,
      "outputs": [
        {
          "output_type": "display_data",
          "data": {
            "text/plain": [
              "<Figure size 432x288 with 1 Axes>"
            ],
            "image/png": "[encoded data removed]"
          },
          "metadata": {
            "needs_background": "light"
          }
        }
      ]
    },
    {
      "cell_type": "code",
      "source": [
        "testing_data_prediction = model.predict(X_test);\n",
        "print(testing_data_prediction);"
      ],
      "metadata": {
        "colab": {
          "base_uri": "https://localhost:8080/"
        },
        "id": "LekU4CKMFXQN",
        "outputId": "f853a54c-1d9c-45cd-ab33-93f6761da791"
      },
      "execution_count": null,
      "outputs": [
        {
          "output_type": "stream",
          "name": "stdout",
          "text": [
            "[30.359884 27.026636 19.17616  21.448114 20.703493 20.424747 27.9036\n",
            " 17.878405 21.678137 23.36513  25.411674 33.19199  21.495481 19.939993\n",
            " 19.990822 28.529932 13.219593 44.483154 25.460302 11.562899 19.486588\n",
            " 17.153116 24.325785 23.509218 27.791344  8.616411 14.683976 19.01615\n",
            " 45.651524 12.10203  22.976582 17.523937 48.34446  16.573458 24.024517\n",
            " 21.818398 14.679352 35.878193 16.073364 20.764208 25.262817 22.376215\n",
            " 24.78839  14.799538 16.877083 11.262062 46.995094 11.280138 21.217411\n",
            " 18.637756 23.77302  20.691387 25.980684 20.501291  8.173699 22.731295\n",
            " 11.759897 24.526464 18.271172 38.32712  12.570583 25.870787 12.011916\n",
            " 13.295293 17.679295 35.901722 37.55958  23.164257 20.201231 20.955679\n",
            " 24.68425   7.049963 18.19561  19.824377 19.77468  20.867382 40.98662\n",
            " 24.473787 27.369884 31.096327 16.441713 19.326612 36.752098  9.891363\n",
            " 20.98247  25.28127  14.024525 26.155094 21.51227  16.4159   23.28247\n",
            " 45.429245 15.133404 20.947332 14.996857 20.791437 24.775454 23.958286\n",
            " 45.176277 22.56781  15.780695 16.750847]\n"
          ]
        }
      ]
    },
    {
      "cell_type": "code",
      "source": [
        "# R Squared Error\n",
        "score_1 = metrics.r2_score(Y_test, testing_data_prediction);\n",
        "print(score_1); # <5\n",
        "\n",
        "# Mean Absolute Error\n",
        "score_2 = metrics.mean_absolute_error(Y_test, testing_data_prediction);\n",
        "print(score_2); # <5"
      ],
      "metadata": {
        "colab": {
          "base_uri": "https://localhost:8080/"
        },
        "id": "-XfeKPfEEeoG",
        "outputId": "eff98749-788a-4e51-98e6-f0183708a6ef"
      },
      "execution_count": null,
      "outputs": [
        {
          "output_type": "stream",
          "name": "stdout",
          "text": [
            "0.9085331557145866\n",
            "2.344013180452235\n"
          ]
        }
      ]
    },
    {
      "cell_type": "code",
      "source": [
        "plt.scatter(Y_test, testing_data_prediction);\n",
        "plt.xlabel(\"Actual Price\");\n",
        "plt.ylabel(\"Predicted Price\");\n",
        "plt.title(\"Actual Price vs Predicted Price\");"
      ],
      "metadata": {
        "id": "XiDki2aAGBC1",
        "outputId": "921c9fe0-82e2-44e3-87da-bb18c10d14bd",
        "colab": {
          "base_uri": "https://localhost:8080/",
          "height": 295
        }
      },
      "execution_count": null,
      "outputs": [
        {
          "output_type": "display_data",
          "data": {
            "text/plain": [
              "<Figure size 432x288 with 1 Axes>"
            ],
            "image/png": "[encoded data removed]"
          },
          "metadata": {
            "needs_background": "light"
          }
        }
      ]
    }
  ]
}