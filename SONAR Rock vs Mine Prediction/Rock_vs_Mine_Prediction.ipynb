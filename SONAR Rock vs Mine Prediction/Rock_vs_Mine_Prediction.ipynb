{
  "nbformat": 4,
  "nbformat_minor": 0,
  "metadata": {
    "colab": {
      "provenance": [],
      "authorship_tag": "ABX9TyPzm/8dRmIx+AkROkhPzHVh",
      "include_colab_link": true
    },
    "kernelspec": {
      "name": "python3",
      "display_name": "Python 3"
    },
    "language_info": {
      "name": "python"
    },
    "gpuClass": "standard"
  },
  "cells": [
    {
      "cell_type": "markdown",
      "metadata": {
        "id": "view-in-github",
        "colab_type": "text"
      },
      "source": [
        "<a href=\"https://colab.research.google.com/github/Gweneal3/Machine_Learning_YT/blob/master/SONAR%20Rock%20vs%20Mine%20Prediction/Rock_vs_Mine_Prediction.ipynb\" target=\"_parent\"><img src=\"https://colab.research.google.com/assets/colab-badge.svg\" alt=\"Open In Colab\"/></a>"
      ]
    },
    {
      "cell_type": "code",
      "source": [
        "! pip3 install numpy\n",
        "import numpy as np\n",
        "import pandas as pd\n",
        "! pip install -U scikit-learn\n",
        "from sklearn.linear_model import LogisticRegression\n",
        "from sklearn.metrics import accuracy_score\n",
        "from sklearn.model_selection import train_test_split\n"
      ],
      "metadata": {
        "colab": {
          "base_uri": "https://localhost:8080/"
        },
        "id": "67MB2mZ-oEYH",
        "outputId": "26cf0500-7f08-46ba-e462-bcbe58e047ad"
      },
      "execution_count": null,
      "outputs": [
        {
          "output_type": "stream",
          "name": "stdout",
          "text": [
            "Looking in indexes: https://pypi.org/simple, https://us-python.pkg.dev/colab-wheels/public/simple/\n",
            "Requirement already satisfied: numpy in /usr/local/lib/python3.9/dist-packages (1.22.4)\n",
            "Looking in indexes: https://pypi.org/simple, https://us-python.pkg.dev/colab-wheels/public/simple/\n",
            "Requirement already satisfied: scikit-learn in /usr/local/lib/python3.9/dist-packages (1.2.2)\n",
            "Requirement already satisfied: threadpoolctl>=2.0.0 in /usr/local/lib/python3.9/dist-packages (from scikit-learn) (3.1.0)\n",
            "Requirement already satisfied: scipy>=1.3.2 in /usr/local/lib/python3.9/dist-packages (from scikit-learn) (1.10.1)\n",
            "Requirement already satisfied: joblib>=1.1.1 in /usr/local/lib/python3.9/dist-packages (from scikit-learn) (1.1.1)\n",
            "Requirement already satisfied: numpy>=1.17.3 in /usr/local/lib/python3.9/dist-packages (from scikit-learn) (1.22.4)\n"
          ]
        }
      ]
    },
    {
      "cell_type": "markdown",
      "source": [
        "DATA COLLECTION AND DATA PROCESSING"
      ],
      "metadata": {
        "id": "v-5dsS-GoWcu"
      }
    },
    {
      "cell_type": "code",
      "source": [
        "# LOADING DATASET TO PANDAS DATAFRAME\n",
        "sonar_data = pd.read_csv('./sonar data.csv', header = None); #If no header, need to mention none"
      ],
      "metadata": {
        "id": "nMk3YgNkoZxW"
      },
      "execution_count": null,
      "outputs": []
    },
    {
      "cell_type": "code",
      "source": [
        "print(sonar_data.head())"
      ],
      "metadata": {
        "colab": {
          "base_uri": "https://localhost:8080/"
        },
        "id": "nukCyh5hpAo3",
        "outputId": "ee916f88-fac3-4694-b508-fbd1a8e6be95"
      },
      "execution_count": null,
      "outputs": [
        {
          "output_type": "stream",
          "name": "stdout",
          "text": [
            "       0       1       2       3       4       5       6       7       8   \\\n",
            "0  0.0200  0.0371  0.0428  0.0207  0.0954  0.0986  0.1539  0.1601  0.3109   \n",
            "1  0.0453  0.0523  0.0843  0.0689  0.1183  0.2583  0.2156  0.3481  0.3337   \n",
            "2  0.0262  0.0582  0.1099  0.1083  0.0974  0.2280  0.2431  0.3771  0.5598   \n",
            "3  0.0100  0.0171  0.0623  0.0205  0.0205  0.0368  0.1098  0.1276  0.0598   \n",
            "4  0.0762  0.0666  0.0481  0.0394  0.0590  0.0649  0.1209  0.2467  0.3564   \n",
            "\n",
            "       9   ...      51      52      53      54      55      56      57  \\\n",
            "0  0.2111  ...  0.0027  0.0065  0.0159  0.0072  0.0167  0.0180  0.0084   \n",
            "1  0.2872  ...  0.0084  0.0089  0.0048  0.0094  0.0191  0.0140  0.0049   \n",
            "2  0.6194  ...  0.0232  0.0166  0.0095  0.0180  0.0244  0.0316  0.0164   \n",
            "3  0.1264  ...  0.0121  0.0036  0.0150  0.0085  0.0073  0.0050  0.0044   \n",
            "4  0.4459  ...  0.0031  0.0054  0.0105  0.0110  0.0015  0.0072  0.0048   \n",
            "\n",
            "       58      59  60  \n",
            "0  0.0090  0.0032   R  \n",
            "1  0.0052  0.0044   R  \n",
            "2  0.0095  0.0078   R  \n",
            "3  0.0040  0.0117   R  \n",
            "4  0.0107  0.0094   R  \n",
            "\n",
            "[5 rows x 61 columns]\n"
          ]
        }
      ]
    },
    {
      "cell_type": "code",
      "source": [
        "# number of rows and columns\n",
        "print(sonar_data.shape)"
      ],
      "metadata": {
        "colab": {
          "base_uri": "https://localhost:8080/"
        },
        "id": "8QOb4k6wpUfG",
        "outputId": "6a5df288-c374-4ada-bf13-d76934302829"
      },
      "execution_count": null,
      "outputs": [
        {
          "output_type": "stream",
          "name": "stdout",
          "text": [
            "(208, 61)\n"
          ]
        }
      ]
    },
    {
      "cell_type": "code",
      "source": [
        "# Statistical measure of the data\n",
        "print(sonar_data.describe())"
      ],
      "metadata": {
        "colab": {
          "base_uri": "https://localhost:8080/"
        },
        "id": "taad02j2qEBm",
        "outputId": "2231b864-fd03-4a1e-cb08-6c3dbd8b35ac"
      },
      "execution_count": null,
      "outputs": [
        {
          "output_type": "stream",
          "name": "stdout",
          "text": [
            "               0           1           2           3           4           5   \\\n",
            "count  208.000000  208.000000  208.000000  208.000000  208.000000  208.000000   \n",
            "mean     0.029164    0.038437    0.043832    0.053892    0.075202    0.104570   \n",
            "std      0.022991    0.032960    0.038428    0.046528    0.055552    0.059105   \n",
            "min      0.001500    0.000600    0.001500    0.005800    0.006700    0.010200   \n",
            "25%      0.013350    0.016450    0.018950    0.024375    0.038050    0.067025   \n",
            "50%      0.022800    0.030800    0.034300    0.044050    0.062500    0.092150   \n",
            "75%      0.035550    0.047950    0.057950    0.064500    0.100275    0.134125   \n",
            "max      0.137100    0.233900    0.305900    0.426400    0.401000    0.382300   \n",
            "\n",
            "               6           7           8           9   ...          50  \\\n",
            "count  208.000000  208.000000  208.000000  208.000000  ...  208.000000   \n",
            "mean     0.121747    0.134799    0.178003    0.208259  ...    0.016069   \n",
            "std      0.061788    0.085152    0.118387    0.134416  ...    0.012008   \n",
            "min      0.003300    0.005500    0.007500    0.011300  ...    0.000000   \n",
            "25%      0.080900    0.080425    0.097025    0.111275  ...    0.008425   \n",
            "50%      0.106950    0.112100    0.152250    0.182400  ...    0.013900   \n",
            "75%      0.154000    0.169600    0.233425    0.268700  ...    0.020825   \n",
            "max      0.372900    0.459000    0.682800    0.710600  ...    0.100400   \n",
            "\n",
            "               51          52          53          54          55          56  \\\n",
            "count  208.000000  208.000000  208.000000  208.000000  208.000000  208.000000   \n",
            "mean     0.013420    0.010709    0.010941    0.009290    0.008222    0.007820   \n",
            "std      0.009634    0.007060    0.007301    0.007088    0.005736    0.005785   \n",
            "min      0.000800    0.000500    0.001000    0.000600    0.000400    0.000300   \n",
            "25%      0.007275    0.005075    0.005375    0.004150    0.004400    0.003700   \n",
            "50%      0.011400    0.009550    0.009300    0.007500    0.006850    0.005950   \n",
            "75%      0.016725    0.014900    0.014500    0.012100    0.010575    0.010425   \n",
            "max      0.070900    0.039000    0.035200    0.044700    0.039400    0.035500   \n",
            "\n",
            "               57          58          59  \n",
            "count  208.000000  208.000000  208.000000  \n",
            "mean     0.007949    0.007941    0.006507  \n",
            "std      0.006470    0.006181    0.005031  \n",
            "min      0.000300    0.000100    0.000600  \n",
            "25%      0.003600    0.003675    0.003100  \n",
            "50%      0.005800    0.006400    0.005300  \n",
            "75%      0.010350    0.010325    0.008525  \n",
            "max      0.044000    0.036400    0.043900  \n",
            "\n",
            "[8 rows x 60 columns]\n"
          ]
        }
      ]
    },
    {
      "cell_type": "code",
      "source": [
        "# find how many mine and rock are there\n",
        "print(sonar_data[60].value_counts()); #60 is the column index"
      ],
      "metadata": {
        "colab": {
          "base_uri": "https://localhost:8080/"
        },
        "id": "IX1qf6Qnq-cm",
        "outputId": "e62b6826-eaba-43ce-8107-c905739d987d"
      },
      "execution_count": null,
      "outputs": [
        {
          "output_type": "stream",
          "name": "stdout",
          "text": [
            "M    111\n",
            "R     97\n",
            "Name: 60, dtype: int64\n"
          ]
        }
      ]
    },
    {
      "cell_type": "markdown",
      "source": [
        "M -> Mine\n",
        "\n",
        "R -> Rock"
      ],
      "metadata": {
        "id": "7gNafO-ztQBe"
      }
    },
    {
      "cell_type": "code",
      "source": [
        "print(sonar_data.groupby(60).mean())"
      ],
      "metadata": {
        "colab": {
          "base_uri": "https://localhost:8080/"
        },
        "id": "e_H2-lFdtTvd",
        "outputId": "ee3d7e48-8b27-4bfe-c308-8a3ead421b69"
      },
      "execution_count": null,
      "outputs": [
        {
          "output_type": "stream",
          "name": "stdout",
          "text": [
            "          0         1         2         3         4         5         6   \\\n",
            "60                                                                         \n",
            "M   0.034989  0.045544  0.050720  0.064768  0.086715  0.111864  0.128359   \n",
            "R   0.022498  0.030303  0.035951  0.041447  0.062028  0.096224  0.114180   \n",
            "\n",
            "          7         8         9   ...        50        51        52        53  \\\n",
            "60                                ...                                           \n",
            "M   0.149832  0.213492  0.251022  ...  0.019352  0.016014  0.011643  0.012185   \n",
            "R   0.117596  0.137392  0.159325  ...  0.012311  0.010453  0.009640  0.009518   \n",
            "\n",
            "          54        55        56        57        58        59  \n",
            "60                                                              \n",
            "M   0.009923  0.008914  0.007825  0.009060  0.008695  0.006930  \n",
            "R   0.008567  0.007430  0.007814  0.006677  0.007078  0.006024  \n",
            "\n",
            "[2 rows x 60 columns]\n"
          ]
        }
      ]
    },
    {
      "cell_type": "code",
      "source": [
        "# Separating data and Labels\n",
        "X = sonar_data.drop(columns=60,axis=1);\n",
        "Y = sonar_data[60];"
      ],
      "metadata": {
        "id": "Gh02ZKi8uoFm"
      },
      "execution_count": null,
      "outputs": []
    },
    {
      "cell_type": "code",
      "source": [
        "print(X);\n",
        "print(Y);"
      ],
      "metadata": {
        "colab": {
          "base_uri": "https://localhost:8080/"
        },
        "id": "nGOvO89Tu4cG",
        "outputId": "9c55fa59-90e0-41e2-816b-8d8dde4d1e8f"
      },
      "execution_count": null,
      "outputs": [
        {
          "output_type": "stream",
          "name": "stdout",
          "text": [
            "         0       1       2       3       4       5       6       7       8   \\\n",
            "0    0.0200  0.0371  0.0428  0.0207  0.0954  0.0986  0.1539  0.1601  0.3109   \n",
            "1    0.0453  0.0523  0.0843  0.0689  0.1183  0.2583  0.2156  0.3481  0.3337   \n",
            "2    0.0262  0.0582  0.1099  0.1083  0.0974  0.2280  0.2431  0.3771  0.5598   \n",
            "3    0.0100  0.0171  0.0623  0.0205  0.0205  0.0368  0.1098  0.1276  0.0598   \n",
            "4    0.0762  0.0666  0.0481  0.0394  0.0590  0.0649  0.1209  0.2467  0.3564   \n",
            "..      ...     ...     ...     ...     ...     ...     ...     ...     ...   \n",
            "203  0.0187  0.0346  0.0168  0.0177  0.0393  0.1630  0.2028  0.1694  0.2328   \n",
            "204  0.0323  0.0101  0.0298  0.0564  0.0760  0.0958  0.0990  0.1018  0.1030   \n",
            "205  0.0522  0.0437  0.0180  0.0292  0.0351  0.1171  0.1257  0.1178  0.1258   \n",
            "206  0.0303  0.0353  0.0490  0.0608  0.0167  0.1354  0.1465  0.1123  0.1945   \n",
            "207  0.0260  0.0363  0.0136  0.0272  0.0214  0.0338  0.0655  0.1400  0.1843   \n",
            "\n",
            "         9   ...      50      51      52      53      54      55      56  \\\n",
            "0    0.2111  ...  0.0232  0.0027  0.0065  0.0159  0.0072  0.0167  0.0180   \n",
            "1    0.2872  ...  0.0125  0.0084  0.0089  0.0048  0.0094  0.0191  0.0140   \n",
            "2    0.6194  ...  0.0033  0.0232  0.0166  0.0095  0.0180  0.0244  0.0316   \n",
            "3    0.1264  ...  0.0241  0.0121  0.0036  0.0150  0.0085  0.0073  0.0050   \n",
            "4    0.4459  ...  0.0156  0.0031  0.0054  0.0105  0.0110  0.0015  0.0072   \n",
            "..      ...  ...     ...     ...     ...     ...     ...     ...     ...   \n",
            "203  0.2684  ...  0.0203  0.0116  0.0098  0.0199  0.0033  0.0101  0.0065   \n",
            "204  0.2154  ...  0.0051  0.0061  0.0093  0.0135  0.0063  0.0063  0.0034   \n",
            "205  0.2529  ...  0.0155  0.0160  0.0029  0.0051  0.0062  0.0089  0.0140   \n",
            "206  0.2354  ...  0.0042  0.0086  0.0046  0.0126  0.0036  0.0035  0.0034   \n",
            "207  0.2354  ...  0.0181  0.0146  0.0129  0.0047  0.0039  0.0061  0.0040   \n",
            "\n",
            "         57      58      59  \n",
            "0    0.0084  0.0090  0.0032  \n",
            "1    0.0049  0.0052  0.0044  \n",
            "2    0.0164  0.0095  0.0078  \n",
            "3    0.0044  0.0040  0.0117  \n",
            "4    0.0048  0.0107  0.0094  \n",
            "..      ...     ...     ...  \n",
            "203  0.0115  0.0193  0.0157  \n",
            "204  0.0032  0.0062  0.0067  \n",
            "205  0.0138  0.0077  0.0031  \n",
            "206  0.0079  0.0036  0.0048  \n",
            "207  0.0036  0.0061  0.0115  \n",
            "\n",
            "[208 rows x 60 columns]\n",
            "0      R\n",
            "1      R\n",
            "2      R\n",
            "3      R\n",
            "4      R\n",
            "      ..\n",
            "203    M\n",
            "204    M\n",
            "205    M\n",
            "206    M\n",
            "207    M\n",
            "Name: 60, Length: 208, dtype: object\n"
          ]
        }
      ]
    },
    {
      "cell_type": "markdown",
      "source": [
        "Train & Test Split"
      ],
      "metadata": {
        "id": "y2ZLXqHuvPlu"
      }
    },
    {
      "cell_type": "code",
      "source": [
        "X_train, X_test, Y_train, Y_test = train_test_split(X, Y, test_size=0.1, stratify=Y, random_state=0);"
      ],
      "metadata": {
        "id": "mVa5bGAmvPWn"
      },
      "execution_count": null,
      "outputs": []
    },
    {
      "cell_type": "code",
      "source": [
        "print(X.shape, X_train.shape, X_test.shape);\n",
        "print(X_train, Y_train);"
      ],
      "metadata": {
        "colab": {
          "base_uri": "https://localhost:8080/"
        },
        "id": "5hpZok4nwI0-",
        "outputId": "76244c8e-4d36-4d3b-fe22-767d161a6052"
      },
      "execution_count": null,
      "outputs": [
        {
          "output_type": "stream",
          "name": "stdout",
          "text": [
            "(208, 60) (187, 60) (21, 60)\n",
            "         0       1       2       3       4       5       6       7       8   \\\n",
            "194  0.0392  0.0108  0.0267  0.0257  0.0410  0.0491  0.1053  0.1690  0.2105   \n",
            "1    0.0453  0.0523  0.0843  0.0689  0.1183  0.2583  0.2156  0.3481  0.3337   \n",
            "47   0.0373  0.0281  0.0232  0.0225  0.0179  0.0733  0.0841  0.1031  0.0993   \n",
            "114  0.0114  0.0222  0.0269  0.0384  0.1217  0.2062  0.1489  0.0929  0.1350   \n",
            "80   0.0229  0.0369  0.0040  0.0375  0.0455  0.1452  0.2211  0.1188  0.0750   \n",
            "..      ...     ...     ...     ...     ...     ...     ...     ...     ...   \n",
            "91   0.0253  0.0808  0.0507  0.0244  0.1724  0.3823  0.3729  0.3583  0.3429   \n",
            "98   0.1313  0.2339  0.3059  0.4264  0.4010  0.1791  0.1853  0.0055  0.1929   \n",
            "84   0.0378  0.0318  0.0423  0.0350  0.1787  0.1635  0.0887  0.0817  0.1779   \n",
            "49   0.0119  0.0582  0.0623  0.0600  0.1397  0.1883  0.1422  0.1447  0.0487   \n",
            "136  0.1088  0.1278  0.0926  0.1234  0.1276  0.1731  0.1948  0.4262  0.6828   \n",
            "\n",
            "         9   ...      50      51      52      53      54      55      56  \\\n",
            "194  0.2471  ...  0.0089  0.0083  0.0080  0.0026  0.0079  0.0042  0.0071   \n",
            "1    0.2872  ...  0.0125  0.0084  0.0089  0.0048  0.0094  0.0191  0.0140   \n",
            "47   0.0802  ...  0.0066  0.0008  0.0045  0.0024  0.0006  0.0073  0.0096   \n",
            "114  0.1799  ...  0.0213  0.0269  0.0152  0.0257  0.0097  0.0041  0.0050   \n",
            "80   0.1631  ...  0.0115  0.0064  0.0022  0.0122  0.0151  0.0056  0.0026   \n",
            "..      ...  ...     ...     ...     ...     ...     ...     ...     ...   \n",
            "91   0.2197  ...  0.0085  0.0178  0.0073  0.0079  0.0038  0.0116  0.0033   \n",
            "98   0.2231  ...  0.0156  0.0362  0.0210  0.0154  0.0180  0.0013  0.0106   \n",
            "84   0.2053  ...  0.0093  0.0046  0.0044  0.0078  0.0102  0.0065  0.0061   \n",
            "49   0.0864  ...  0.0069  0.0025  0.0103  0.0074  0.0123  0.0069  0.0076   \n",
            "136  0.5761  ...  0.0140  0.0455  0.0213  0.0082  0.0124  0.0167  0.0103   \n",
            "\n",
            "         57      58      59  \n",
            "194  0.0044  0.0022  0.0014  \n",
            "1    0.0049  0.0052  0.0044  \n",
            "47   0.0054  0.0085  0.0060  \n",
            "114  0.0145  0.0103  0.0025  \n",
            "80   0.0029  0.0104  0.0163  \n",
            "..      ...     ...     ...  \n",
            "91   0.0039  0.0081  0.0053  \n",
            "98   0.0127  0.0178  0.0231  \n",
            "84   0.0062  0.0043  0.0053  \n",
            "49   0.0073  0.0030  0.0138  \n",
            "136  0.0205  0.0178  0.0187  \n",
            "\n",
            "[187 rows x 60 columns] 194    M\n",
            "1      R\n",
            "47     R\n",
            "114    M\n",
            "80     R\n",
            "      ..\n",
            "91     R\n",
            "98     M\n",
            "84     R\n",
            "49     R\n",
            "136    M\n",
            "Name: 60, Length: 187, dtype: object\n"
          ]
        }
      ]
    },
    {
      "cell_type": "markdown",
      "source": [
        "Model Training : Logistic Regression"
      ],
      "metadata": {
        "id": "r2wElVv2wVa9"
      }
    },
    {
      "cell_type": "code",
      "source": [
        "model = LogisticRegression();"
      ],
      "metadata": {
        "id": "2kV6GesRwbMu"
      },
      "execution_count": null,
      "outputs": []
    },
    {
      "cell_type": "code",
      "source": [
        "#training the model\n",
        "model.fit(X_train, Y_train);"
      ],
      "metadata": {
        "id": "yHbxmqjUwi0u"
      },
      "execution_count": null,
      "outputs": []
    },
    {
      "cell_type": "markdown",
      "source": [
        "Model Evaluation"
      ],
      "metadata": {
        "id": "yrceN1azxAW0"
      }
    },
    {
      "cell_type": "code",
      "source": [
        "# Accuracy of the model(training data)\n",
        "X_train_prediction = model.predict(X_train);\n",
        "training_data_accuracy = accuracy_score(X_train_prediction, Y_train);"
      ],
      "metadata": {
        "id": "bHUIRLjSwxCg"
      },
      "execution_count": null,
      "outputs": []
    },
    {
      "cell_type": "code",
      "source": [
        "print(training_data_accuracy);"
      ],
      "metadata": {
        "colab": {
          "base_uri": "https://localhost:8080/"
        },
        "id": "u78ZOs8byAjm",
        "outputId": "9c3f0952-8f78-4e3a-e5b4-758ee02a72a5"
      },
      "execution_count": null,
      "outputs": [
        {
          "output_type": "stream",
          "name": "stdout",
          "text": [
            "0.8288770053475936\n"
          ]
        }
      ]
    },
    {
      "cell_type": "code",
      "source": [
        "# Accuracy of the model(test data)\n",
        "X_test_prediction = model.predict(X_test);\n",
        "test_data_accuracy = accuracy_score(X_test_prediction, Y_test);"
      ],
      "metadata": {
        "id": "JZ8iHF-pyBie"
      },
      "execution_count": null,
      "outputs": []
    },
    {
      "cell_type": "code",
      "source": [
        "print(test_data_accuracy);"
      ],
      "metadata": {
        "colab": {
          "base_uri": "https://localhost:8080/"
        },
        "id": "FtAw3s8uyHb-",
        "outputId": "8e9359b1-5250-47f7-928c-1a1b03c39cc6"
      },
      "execution_count": null,
      "outputs": [
        {
          "output_type": "stream",
          "name": "stdout",
          "text": [
            "0.8095238095238095\n"
          ]
        }
      ]
    },
    {
      "cell_type": "markdown",
      "source": [
        "Making a Predictive System"
      ],
      "metadata": {
        "id": "4Ol346uayVqu"
      }
    },
    {
      "cell_type": "code",
      "source": [
        "input_data = (0.0453,0.0523,0.0843,0.0689,0.1183,0.2583,0.2156,0.3481,0.3337,0.2872,0.4918,0.6552,0.6919,0.7797,0.7464,0.9444,1.0000,0.8874,0.8024,0.7818,0.5212,0.4052,0.3957,0.3914,0.3250,0.3200,0.3271,0.2767,0.4423,0.2028,0.3788,0.2947,0.1984,0.2341,0.1306,0.4182,0.3835,0.1057,0.1840,0.1970,0.1674,0.0583,0.1401,0.1628,0.0621,0.0203,0.0530,0.0742,0.0409,0.0061,0.0125,0.0084,0.0089,0.0048,0.0094,0.0191,0.0140,0.0049,0.0052,0.0044);\n",
        "\n",
        "#changing input_data to a numpy array\n",
        "input_data_as_numpy_array = np.asarray(input_data);\n",
        "\n",
        "#reshape np array as we are predicting for one instance\n",
        "input_data_reshaped = input_data_as_numpy_array.reshape(1,-1);\n",
        "\n",
        "prediction = model.predict(input_data_reshaped);\n",
        "\n",
        "if(prediction[0] == 'R'):\n",
        "  print(\"The object is the rock\");\n",
        "else:\n",
        "  print(\"The object is mine.\");"
      ],
      "metadata": {
        "colab": {
          "base_uri": "https://localhost:8080/"
        },
        "id": "WNmAfWC2yYsu",
        "outputId": "3ade317a-e366-4c95-df9a-4911322744e0"
      },
      "execution_count": null,
      "outputs": [
        {
          "output_type": "stream",
          "name": "stdout",
          "text": [
            "The object is the rock\n"
          ]
        }
      ]
    }
  ]
}