{
  "nbformat": 4,
  "nbformat_minor": 0,
  "metadata": {
    "colab": {
      "provenance": [],
      "authorship_tag": "ABX9TyN0UsHTwLds0Q6bt7jZOtec",
      "include_colab_link": true
    },
    "kernelspec": {
      "name": "python3",
      "display_name": "Python 3"
    },
    "language_info": {
      "name": "python"
    }
  },
  "cells": [
    {
      "cell_type": "markdown",
      "metadata": {
        "id": "view-in-github",
        "colab_type": "text"
      },
      "source": [
        "<a href=\"https://colab.research.google.com/github/Gweneal3/Machine_Learning_YT/blob/master/Calories%20Burnt%20Prediction/Calories_Burnt_Prediction.ipynb\" target=\"_parent\"><img src=\"https://colab.research.google.com/assets/colab-badge.svg\" alt=\"Open In Colab\"/></a>"
      ]
    },
    {
      "cell_type": "markdown",
      "source": [
        "Data Source: https://www.kaggle.com/datasets/fmendes/fmendesdat263xdemos"
      ],
      "metadata": {
        "id": "eajMAGTTr9mw"
      }
    },
    {
      "cell_type": "code",
      "execution_count": 26,
      "metadata": {
        "id": "P1NWaK_GrQ6a"
      },
      "outputs": [],
      "source": [
        "import numpy as np\n",
        "import pandas as pd\n",
        "from sklearn.model_selection import train_test_split\n",
        "from sklearn import metrics\n",
        "import seaborn as sns\n",
        "import matplotlib.pyplot as plt\n",
        "from xgboost import XGBRegressor"
      ]
    },
    {
      "cell_type": "markdown",
      "source": [
        "Data Collection and Preprocessing"
      ],
      "metadata": {
        "id": "kv3SZgvGuc9E"
      }
    },
    {
      "cell_type": "code",
      "source": [
        "calories = pd.read_csv(\"./calories.csv\")"
      ],
      "metadata": {
        "id": "KEkIzL4YufKU"
      },
      "execution_count": 27,
      "outputs": []
    },
    {
      "cell_type": "code",
      "source": [
        "print(calories.shape)"
      ],
      "metadata": {
        "colab": {
          "base_uri": "https://localhost:8080/"
        },
        "id": "rgqgbYjpusER",
        "outputId": "f4a9fba1-faf4-4c08-e4e2-d6b75e93f256"
      },
      "execution_count": 28,
      "outputs": [
        {
          "output_type": "stream",
          "name": "stdout",
          "text": [
            "(15000, 2)\n"
          ]
        }
      ]
    },
    {
      "cell_type": "code",
      "source": [
        "print(calories.head())"
      ],
      "metadata": {
        "colab": {
          "base_uri": "https://localhost:8080/"
        },
        "id": "etJMeDzYuvMi",
        "outputId": "f6fbdca3-6b22-4c51-8af7-47b0c8f14fb2"
      },
      "execution_count": 29,
      "outputs": [
        {
          "output_type": "stream",
          "name": "stdout",
          "text": [
            "    User_ID  Calories\n",
            "0  14733363     231.0\n",
            "1  14861698      66.0\n",
            "2  11179863      26.0\n",
            "3  16180408      71.0\n",
            "4  17771927      35.0\n"
          ]
        }
      ]
    },
    {
      "cell_type": "code",
      "source": [
        "exercise_data = pd.read_csv(\"./exercise.csv\")"
      ],
      "metadata": {
        "id": "IRAH1moJvrVh"
      },
      "execution_count": 30,
      "outputs": []
    },
    {
      "cell_type": "code",
      "source": [
        "print(exercise_data.shape)"
      ],
      "metadata": {
        "colab": {
          "base_uri": "https://localhost:8080/"
        },
        "id": "_zQ-SwjAvwkm",
        "outputId": "122a1327-39aa-4aad-88bf-b9a8c9ad07d6"
      },
      "execution_count": 31,
      "outputs": [
        {
          "output_type": "stream",
          "name": "stdout",
          "text": [
            "(15000, 8)\n"
          ]
        }
      ]
    },
    {
      "cell_type": "code",
      "source": [
        "print(exercise_data.head())"
      ],
      "metadata": {
        "colab": {
          "base_uri": "https://localhost:8080/"
        },
        "id": "_BDpDTXnv0rq",
        "outputId": "1aa42d32-df98-4dc3-80ab-7ab4b1e3cff0"
      },
      "execution_count": 32,
      "outputs": [
        {
          "output_type": "stream",
          "name": "stdout",
          "text": [
            "    User_ID  Gender  Age  Height  Weight  Duration  Heart_Rate  Body_Temp\n",
            "0  14733363    male   68   190.0    94.0      29.0       105.0       40.8\n",
            "1  14861698  female   20   166.0    60.0      14.0        94.0       40.3\n",
            "2  11179863    male   69   179.0    79.0       5.0        88.0       38.7\n",
            "3  16180408  female   34   179.0    71.0      13.0       100.0       40.5\n",
            "4  17771927  female   27   154.0    58.0      10.0        81.0       39.8\n"
          ]
        }
      ]
    },
    {
      "cell_type": "markdown",
      "source": [
        "Combining the 2 Dataframes"
      ],
      "metadata": {
        "id": "EapWZTXGwACJ"
      }
    },
    {
      "cell_type": "code",
      "source": [
        "calories_data = pd.concat([exercise_data, calories['Calories']], axis=1)"
      ],
      "metadata": {
        "id": "FrvD2rUyv7ZR"
      },
      "execution_count": 33,
      "outputs": []
    },
    {
      "cell_type": "code",
      "source": [
        "print(calories_data.shape)"
      ],
      "metadata": {
        "colab": {
          "base_uri": "https://localhost:8080/"
        },
        "id": "IqI6VwnJwl9p",
        "outputId": "36a31554-a05a-4dc8-f0ef-357b7802b514"
      },
      "execution_count": 34,
      "outputs": [
        {
          "output_type": "stream",
          "name": "stdout",
          "text": [
            "(15000, 9)\n"
          ]
        }
      ]
    },
    {
      "cell_type": "code",
      "source": [
        "print(calories_data.head())"
      ],
      "metadata": {
        "colab": {
          "base_uri": "https://localhost:8080/"
        },
        "id": "9d7brSOUwpVt",
        "outputId": "d84689ee-027c-41b5-edcb-27d279a0970a"
      },
      "execution_count": 35,
      "outputs": [
        {
          "output_type": "stream",
          "name": "stdout",
          "text": [
            "    User_ID  Gender  Age  Height  ...  Duration  Heart_Rate  Body_Temp  Calories\n",
            "0  14733363    male   68   190.0  ...      29.0       105.0       40.8     231.0\n",
            "1  14861698  female   20   166.0  ...      14.0        94.0       40.3      66.0\n",
            "2  11179863    male   69   179.0  ...       5.0        88.0       38.7      26.0\n",
            "3  16180408  female   34   179.0  ...      13.0       100.0       40.5      71.0\n",
            "4  17771927  female   27   154.0  ...      10.0        81.0       39.8      35.0\n",
            "\n",
            "[5 rows x 9 columns]\n"
          ]
        }
      ]
    },
    {
      "cell_type": "code",
      "source": [
        "print(calories_data.info())"
      ],
      "metadata": {
        "colab": {
          "base_uri": "https://localhost:8080/"
        },
        "id": "qIMF9hf8w2Qu",
        "outputId": "41e0786a-f3d3-442d-94d6-ef6da6e02300"
      },
      "execution_count": 36,
      "outputs": [
        {
          "output_type": "stream",
          "name": "stdout",
          "text": [
            "<class 'pandas.core.frame.DataFrame'>\n",
            "RangeIndex: 15000 entries, 0 to 14999\n",
            "Data columns (total 9 columns):\n",
            " #   Column      Non-Null Count  Dtype  \n",
            "---  ------      --------------  -----  \n",
            " 0   User_ID     15000 non-null  int64  \n",
            " 1   Gender      15000 non-null  object \n",
            " 2   Age         15000 non-null  int64  \n",
            " 3   Height      15000 non-null  float64\n",
            " 4   Weight      15000 non-null  float64\n",
            " 5   Duration    15000 non-null  float64\n",
            " 6   Heart_Rate  15000 non-null  float64\n",
            " 7   Body_Temp   15000 non-null  float64\n",
            " 8   Calories    15000 non-null  float64\n",
            "dtypes: float64(6), int64(2), object(1)\n",
            "memory usage: 1.0+ MB\n",
            "None\n"
          ]
        }
      ]
    },
    {
      "cell_type": "code",
      "source": [
        "print(calories_data.isnull().sum())"
      ],
      "metadata": {
        "colab": {
          "base_uri": "https://localhost:8080/"
        },
        "id": "C6aI4qaCxGDJ",
        "outputId": "dbb6c356-7735-4187-be0b-a58595d53355"
      },
      "execution_count": 37,
      "outputs": [
        {
          "output_type": "stream",
          "name": "stdout",
          "text": [
            "User_ID       0\n",
            "Gender        0\n",
            "Age           0\n",
            "Height        0\n",
            "Weight        0\n",
            "Duration      0\n",
            "Heart_Rate    0\n",
            "Body_Temp     0\n",
            "Calories      0\n",
            "dtype: int64\n"
          ]
        }
      ]
    },
    {
      "cell_type": "code",
      "source": [
        "print(calories_data.describe())"
      ],
      "metadata": {
        "colab": {
          "base_uri": "https://localhost:8080/"
        },
        "id": "4aGMCjZIw6DI",
        "outputId": "4e014d0a-e509-4630-f7c8-f3648266f108"
      },
      "execution_count": 38,
      "outputs": [
        {
          "output_type": "stream",
          "name": "stdout",
          "text": [
            "            User_ID           Age  ...     Body_Temp      Calories\n",
            "count  1.500000e+04  15000.000000  ...  15000.000000  15000.000000\n",
            "mean   1.497736e+07     42.789800  ...     40.025453     89.539533\n",
            "std    2.872851e+06     16.980264  ...      0.779230     62.456978\n",
            "min    1.000116e+07     20.000000  ...     37.100000      1.000000\n",
            "25%    1.247419e+07     28.000000  ...     39.600000     35.000000\n",
            "50%    1.499728e+07     39.000000  ...     40.200000     79.000000\n",
            "75%    1.744928e+07     56.000000  ...     40.600000    138.000000\n",
            "max    1.999965e+07     79.000000  ...     41.500000    314.000000\n",
            "\n",
            "[8 rows x 8 columns]\n"
          ]
        }
      ]
    },
    {
      "cell_type": "markdown",
      "source": [
        "Data Visualisation"
      ],
      "metadata": {
        "id": "XLAhFViwxT21"
      }
    },
    {
      "cell_type": "code",
      "source": [
        "sns.set()"
      ],
      "metadata": {
        "id": "37UQjk20xFWh"
      },
      "execution_count": 39,
      "outputs": []
    },
    {
      "cell_type": "code",
      "source": [
        "sns.countplot(x='Gender', data=calories_data)"
      ],
      "metadata": {
        "colab": {
          "base_uri": "https://localhost:8080/",
          "height": 302
        },
        "id": "ZDUMF7cVxfYt",
        "outputId": "6a2624ec-7f0e-4a64-f57e-e0c7f1fa21f1"
      },
      "execution_count": 40,
      "outputs": [
        {
          "output_type": "execute_result",
          "data": {
            "text/plain": [
              "<Axes: xlabel='Gender', ylabel='count'>"
            ]
          },
          "metadata": {},
          "execution_count": 40
        },
        {
          "output_type": "display_data",
          "data": {
            "text/plain": [
              "<Figure size 432x288 with 1 Axes>"
            ],
            "image/png": "[encoded data removed]"
          },
          "metadata": {}
        }
      ]
    },
    {
      "cell_type": "code",
      "source": [
        "# distribution of age\n",
        "sns.displot(calories_data.Age)"
      ],
      "metadata": {
        "colab": {
          "base_uri": "https://localhost:8080/",
          "height": 382
        },
        "id": "bzUP3azGx_QT",
        "outputId": "e54b111c-759e-4333-98cd-5a0f0c47ec19"
      },
      "execution_count": 41,
      "outputs": [
        {
          "output_type": "execute_result",
          "data": {
            "text/plain": [
              "<seaborn.axisgrid.FacetGrid at 0x7f5baaae08e0>"
            ]
          },
          "metadata": {},
          "execution_count": 41
        },
        {
          "output_type": "display_data",
          "data": {
            "text/plain": [
              "<Figure size 360x360 with 1 Axes>"
            ],
            "image/png": "[encoded data removed]"
          },
          "metadata": {}
        }
      ]
    },
    {
      "cell_type": "code",
      "source": [
        "# distribution of Height\n",
        "sns.displot(calories_data.Height)"
      ],
      "metadata": {
        "colab": {
          "base_uri": "https://localhost:8080/",
          "height": 382
        },
        "id": "rledC34fyNNr",
        "outputId": "cb44f012-10c6-4792-bde4-d22b842a6ebc"
      },
      "execution_count": 42,
      "outputs": [
        {
          "output_type": "execute_result",
          "data": {
            "text/plain": [
              "<seaborn.axisgrid.FacetGrid at 0x7f5baa5afbb0>"
            ]
          },
          "metadata": {},
          "execution_count": 42
        },
        {
          "output_type": "display_data",
          "data": {
            "text/plain": [
              "<Figure size 360x360 with 1 Axes>"
            ],
            "image/png": "[encoded data removed]"
          },
          "metadata": {}
        }
      ]
    },
    {
      "cell_type": "code",
      "source": [
        "# distribution of Weight\n",
        "sns.displot(calories_data.Weight)"
      ],
      "metadata": {
        "colab": {
          "base_uri": "https://localhost:8080/",
          "height": 382
        },
        "id": "wsVdTmaKyUHp",
        "outputId": "3eefc759-1538-49d0-81a5-cabb21387489"
      },
      "execution_count": 43,
      "outputs": [
        {
          "output_type": "execute_result",
          "data": {
            "text/plain": [
              "<seaborn.axisgrid.FacetGrid at 0x7f5baa98a9a0>"
            ]
          },
          "metadata": {},
          "execution_count": 43
        },
        {
          "output_type": "display_data",
          "data": {
            "text/plain": [
              "<Figure size 360x360 with 1 Axes>"
            ],
            "image/png": "[encoded data removed]"
          },
          "metadata": {}
        }
      ]
    },
    {
      "cell_type": "markdown",
      "source": [
        "Correlation"
      ],
      "metadata": {
        "id": "R5gizKMmydRp"
      }
    },
    {
      "cell_type": "code",
      "source": [
        "correlation = calories_data.corr()"
      ],
      "metadata": {
        "id": "FZVgE89qyaxj"
      },
      "execution_count": 44,
      "outputs": []
    },
    {
      "cell_type": "code",
      "source": [
        "plt.figure(figsize=(15,15))\n",
        "sns.heatmap(correlation, cmap='Blues', cbar=True, square=True, fmt='.1f', annot=True, annot_kws={'size':12})"
      ],
      "metadata": {
        "colab": {
          "base_uri": "https://localhost:8080/",
          "height": 867
        },
        "id": "IJ7UODfMyhYE",
        "outputId": "3b14d7da-3acc-4e13-e755-db00baf1c6ed"
      },
      "execution_count": 47,
      "outputs": [
        {
          "output_type": "execute_result",
          "data": {
            "text/plain": [
              "<Axes: >"
            ]
          },
          "metadata": {},
          "execution_count": 47
        },
        {
          "output_type": "display_data",
          "data": {
            "text/plain": [
              "<Figure size 1080x1080 with 2 Axes>"
            ],
            "image/png": "[encoded data removed]"
          },
          "metadata": {}
        }
      ]
    },
    {
      "cell_type": "markdown",
      "source": [
        "Encoding"
      ],
      "metadata": {
        "id": "qCfHMqw41ii8"
      }
    },
    {
      "cell_type": "code",
      "source": [
        "calories_data.replace({'Gender':{'male':0,'female':1}},inplace=True)"
      ],
      "metadata": {
        "id": "GaCRL3X40--r"
      },
      "execution_count": 48,
      "outputs": []
    },
    {
      "cell_type": "code",
      "source": [
        "print(calories_data.head())"
      ],
      "metadata": {
        "colab": {
          "base_uri": "https://localhost:8080/"
        },
        "id": "kLwpb9-r1tps",
        "outputId": "430e54f5-4628-4365-ada4-ee2a35447fa6"
      },
      "execution_count": 49,
      "outputs": [
        {
          "output_type": "stream",
          "name": "stdout",
          "text": [
            "    User_ID  Gender  Age  Height  ...  Duration  Heart_Rate  Body_Temp  Calories\n",
            "0  14733363       0   68   190.0  ...      29.0       105.0       40.8     231.0\n",
            "1  14861698       1   20   166.0  ...      14.0        94.0       40.3      66.0\n",
            "2  11179863       0   69   179.0  ...       5.0        88.0       38.7      26.0\n",
            "3  16180408       1   34   179.0  ...      13.0       100.0       40.5      71.0\n",
            "4  17771927       1   27   154.0  ...      10.0        81.0       39.8      35.0\n",
            "\n",
            "[5 rows x 9 columns]\n"
          ]
        }
      ]
    },
    {
      "cell_type": "markdown",
      "source": [
        "Split Feature and Target"
      ],
      "metadata": {
        "id": "1Qb73Kh011NF"
      }
    },
    {
      "cell_type": "code",
      "source": [
        "X = calories_data.drop(['User_ID','Calories'], axis=1)\n",
        "Y = calories_data['Calories']"
      ],
      "metadata": {
        "id": "Khv0X8u71v1a"
      },
      "execution_count": 51,
      "outputs": []
    },
    {
      "cell_type": "markdown",
      "source": [
        "Train Test Split"
      ],
      "metadata": {
        "id": "SDhmyw7A2JoX"
      }
    },
    {
      "cell_type": "code",
      "source": [
        "X_train, X_test, Y_train, Y_test = train_test_split(X,Y,test_size=0.2,random_state=2)"
      ],
      "metadata": {
        "id": "Vs-obpZz2Kyr"
      },
      "execution_count": 53,
      "outputs": []
    },
    {
      "cell_type": "code",
      "source": [
        "print(X.shape, X_train.shape, X_test.shape)"
      ],
      "metadata": {
        "colab": {
          "base_uri": "https://localhost:8080/"
        },
        "id": "3lFBoK5c2WNH",
        "outputId": "881b5e04-3cb8-4134-d319-3bbea784f034"
      },
      "execution_count": 54,
      "outputs": [
        {
          "output_type": "stream",
          "name": "stdout",
          "text": [
            "(15000, 7) (12000, 7) (3000, 7)\n"
          ]
        }
      ]
    },
    {
      "cell_type": "markdown",
      "source": [
        "Train Model"
      ],
      "metadata": {
        "id": "DbmP46xi2hSc"
      }
    },
    {
      "cell_type": "code",
      "source": [
        "model = XGBRegressor()"
      ],
      "metadata": {
        "id": "DTKHv00e2ev8"
      },
      "execution_count": 55,
      "outputs": []
    },
    {
      "cell_type": "code",
      "source": [
        "model.fit(X_train, Y_train)"
      ],
      "metadata": {
        "colab": {
          "base_uri": "https://localhost:8080/",
          "height": 248
        },
        "id": "sIcyJ0bW2uE7",
        "outputId": "4ff2f5e7-4484-439b-d344-f718669abc52"
      },
      "execution_count": 58,
      "outputs": [
        {
          "output_type": "execute_result",
          "data": {
            "text/plain": [
              "XGBRegressor(base_score=None, booster=None, callbacks=None,\n",
              "             colsample_bylevel=None, colsample_bynode=None,\n",
              "             colsample_bytree=None, early_stopping_rounds=None,\n",
              "             enable_categorical=False, eval_metric=None, feature_types=None,\n",
              "             gamma=None, gpu_id=None, grow_policy=None, importance_type=None,\n",
              "             interaction_constraints=None, learning_rate=None, max_bin=None,\n",
              "             max_cat_threshold=None, max_cat_to_onehot=None,\n",
              "             max_delta_step=None, max_depth=None, max_leaves=None,\n",
              "             min_child_weight=None, missing=nan, monotone_constraints=None,\n",
              "             n_estimators=100, n_jobs=None, num_parallel_tree=None,\n",
              "             predictor=None, random_state=None, ...)"
            ],
            "text/html": [
              "<style>#sk-container-id-2 {color: black;background-color: white;}#sk-container-id-2 pre{padding: 0;}#sk-container-id-2 div.sk-toggleable {background-color: white;}#sk-container-id-2 label.sk-toggleable__label {cursor: pointer;display: block;width: 100%;margin-bottom: 0;padding: 0.3em;box-sizing: border-box;text-align: center;}#sk-container-id-2 label.sk-toggleable__label-arrow:before {content: \"▸\";float: left;margin-right: 0.25em;color: #696969;}#sk-container-id-2 label.sk-toggleable__label-arrow:hover:before {color: black;}#sk-container-id-2 div.sk-estimator:hover label.sk-toggleable__label-arrow:before {color: black;}#sk-container-id-2 div.sk-toggleable__content {max-height: 0;max-width: 0;overflow: hidden;text-align: left;background-color: #f0f8ff;}#sk-container-id-2 div.sk-toggleable__content pre {margin: 0.2em;color: black;border-radius: 0.25em;background-color: #f0f8ff;}#sk-container-id-2 input.sk-toggleable__control:checked~div.sk-toggleable__content {max-height: 200px;max-width: 100%;overflow: auto;}#sk-container-id-2 input.sk-toggleable__control:checked~label.sk-toggleable__label-arrow:before {content: \"▾\";}#sk-container-id-2 div.sk-estimator input.sk-toggleable__control:checked~label.sk-toggleable__label {background-color: #d4ebff;}#sk-container-id-2 div.sk-label input.sk-toggleable__control:checked~label.sk-toggleable__label {background-color: #d4ebff;}#sk-container-id-2 input.sk-hidden--visually {border: 0;clip: rect(1px 1px 1px 1px);clip: rect(1px, 1px, 1px, 1px);height: 1px;margin: -1px;overflow: hidden;padding: 0;position: absolute;width: 1px;}#sk-container-id-2 div.sk-estimator {font-family: monospace;background-color: #f0f8ff;border: 1px dotted black;border-radius: 0.25em;box-sizing: border-box;margin-bottom: 0.5em;}#sk-container-id-2 div.sk-estimator:hover {background-color: #d4ebff;}#sk-container-id-2 div.sk-parallel-item::after {content: \"\";width: 100%;border-bottom: 1px solid gray;flex-grow: 1;}#sk-container-id-2 div.sk-label:hover label.sk-toggleable__label {background-color: #d4ebff;}#sk-container-id-2 div.sk-serial::before {content: \"\";position: absolute;border-left: 1px solid gray;box-sizing: border-box;top: 0;bottom: 0;left: 50%;z-index: 0;}#sk-container-id-2 div.sk-serial {display: flex;flex-direction: column;align-items: center;background-color: white;padding-right: 0.2em;padding-left: 0.2em;position: relative;}#sk-container-id-2 div.sk-item {position: relative;z-index: 1;}#sk-container-id-2 div.sk-parallel {display: flex;align-items: stretch;justify-content: center;background-color: white;position: relative;}#sk-container-id-2 div.sk-item::before, #sk-container-id-2 div.sk-parallel-item::before {content: \"\";position: absolute;border-left: 1px solid gray;box-sizing: border-box;top: 0;bottom: 0;left: 50%;z-index: -1;}#sk-container-id-2 div.sk-parallel-item {display: flex;flex-direction: column;z-index: 1;position: relative;background-color: white;}#sk-container-id-2 div.sk-parallel-item:first-child::after {align-self: flex-end;width: 50%;}#sk-container-id-2 div.sk-parallel-item:last-child::after {align-self: flex-start;width: 50%;}#sk-container-id-2 div.sk-parallel-item:only-child::after {width: 0;}#sk-container-id-2 div.sk-dashed-wrapped {border: 1px dashed gray;margin: 0 0.4em 0.5em 0.4em;box-sizing: border-box;padding-bottom: 0.4em;background-color: white;}#sk-container-id-2 div.sk-label label {font-family: monospace;font-weight: bold;display: inline-block;line-height: 1.2em;}#sk-container-id-2 div.sk-label-container {text-align: center;}#sk-container-id-2 div.sk-container {/* jupyter's `normalize.less` sets `[hidden] { display: none; }` but bootstrap.min.css set `[hidden] { display: none !important; }` so we also need the `!important` here to be able to override the default hidden behavior on the sphinx rendered scikit-learn.org. See: https://github.com/scikit-learn/scikit-learn/issues/21755 */display: inline-block !important;position: relative;}#sk-container-id-2 div.sk-text-repr-fallback {display: none;}</style><div id=\"sk-container-id-2\" class=\"sk-top-container\"><div class=\"sk-text-repr-fallback\"><pre>XGBRegressor(base_score=None, booster=None, callbacks=None,\n",
              "             colsample_bylevel=None, colsample_bynode=None,\n",
              "             colsample_bytree=None, early_stopping_rounds=None,\n",
              "             enable_categorical=False, eval_metric=None, feature_types=None,\n",
              "             gamma=None, gpu_id=None, grow_policy=None, importance_type=None,\n",
              "             interaction_constraints=None, learning_rate=None, max_bin=None,\n",
              "             max_cat_threshold=None, max_cat_to_onehot=None,\n",
              "             max_delta_step=None, max_depth=None, max_leaves=None,\n",
              "             min_child_weight=None, missing=nan, monotone_constraints=None,\n",
              "             n_estimators=100, n_jobs=None, num_parallel_tree=None,\n",
              "             predictor=None, random_state=None, ...)</pre><b>In a Jupyter environment, please rerun this cell to show the HTML representation or trust the notebook. <br />On GitHub, the HTML representation is unable to render, please try loading this page with nbviewer.org.</b></div><div class=\"sk-container\" hidden><div class=\"sk-item\"><div class=\"sk-estimator sk-toggleable\"><input class=\"sk-toggleable__control sk-hidden--visually\" id=\"sk-estimator-id-2\" type=\"checkbox\" checked><label for=\"sk-estimator-id-2\" class=\"sk-toggleable__label sk-toggleable__label-arrow\">XGBRegressor</label><div class=\"sk-toggleable__content\"><pre>XGBRegressor(base_score=None, booster=None, callbacks=None,\n",
              "             colsample_bylevel=None, colsample_bynode=None,\n",
              "             colsample_bytree=None, early_stopping_rounds=None,\n",
              "             enable_categorical=False, eval_metric=None, feature_types=None,\n",
              "             gamma=None, gpu_id=None, grow_policy=None, importance_type=None,\n",
              "             interaction_constraints=None, learning_rate=None, max_bin=None,\n",
              "             max_cat_threshold=None, max_cat_to_onehot=None,\n",
              "             max_delta_step=None, max_depth=None, max_leaves=None,\n",
              "             min_child_weight=None, missing=nan, monotone_constraints=None,\n",
              "             n_estimators=100, n_jobs=None, num_parallel_tree=None,\n",
              "             predictor=None, random_state=None, ...)</pre></div></div></div></div></div>"
            ]
          },
          "metadata": {},
          "execution_count": 58
        }
      ]
    },
    {
      "cell_type": "markdown",
      "source": [
        "Model Evaluation"
      ],
      "metadata": {
        "id": "8n4rOAnL21BQ"
      }
    },
    {
      "cell_type": "code",
      "source": [
        "X_test_prediction = model.predict(X_test)"
      ],
      "metadata": {
        "id": "XPe-AcSD22Lx"
      },
      "execution_count": 59,
      "outputs": []
    },
    {
      "cell_type": "code",
      "source": [
        "# r2 score\n",
        "error_score_test =  metrics.r2_score(Y_test, X_test_prediction)"
      ],
      "metadata": {
        "id": "QHw32zLx2_rD"
      },
      "execution_count": 60,
      "outputs": []
    },
    {
      "cell_type": "code",
      "source": [
        "print(error_score_test)"
      ],
      "metadata": {
        "colab": {
          "base_uri": "https://localhost:8080/"
        },
        "id": "vW5oLW6C3SNc",
        "outputId": "4632c355-502f-40f3-c6d0-dcfbd9ddbd07"
      },
      "execution_count": 61,
      "outputs": [
        {
          "output_type": "stream",
          "name": "stdout",
          "text": [
            "0.9988455491362879\n"
          ]
        }
      ]
    },
    {
      "cell_type": "code",
      "source": [
        "# mean absolute error\n",
        "mean_absolute_error = metrics.mean_absolute_error(Y_test, X_test_prediction)"
      ],
      "metadata": {
        "id": "9BNZOOwF3YSX"
      },
      "execution_count": 62,
      "outputs": []
    },
    {
      "cell_type": "code",
      "source": [
        "print(mean_absolute_error)"
      ],
      "metadata": {
        "colab": {
          "base_uri": "https://localhost:8080/"
        },
        "id": "bLdYfMUS3kvb",
        "outputId": "de37a83b-37b9-4872-ddfd-b8ef3624500f"
      },
      "execution_count": 63,
      "outputs": [
        {
          "output_type": "stream",
          "name": "stdout",
          "text": [
            "1.4807048829992613\n"
          ]
        }
      ]
    },
    {
      "cell_type": "markdown",
      "source": [
        "Compare Prediction and Actual"
      ],
      "metadata": {
        "id": "SgXID7wF38XM"
      }
    },
    {
      "cell_type": "code",
      "source": [
        "plt.figure(figsize=(10,10))\n",
        "sns.regplot(x=Y_test, y=X_test_prediction);"
      ],
      "metadata": {
        "colab": {
          "base_uri": "https://localhost:8080/",
          "height": 611
        },
        "id": "p7kRBFFa3_vM",
        "outputId": "f3ac49f2-e430-4508-b762-495bc1d5b0cd"
      },
      "execution_count": 73,
      "outputs": [
        {
          "output_type": "display_data",
          "data": {
            "text/plain": [
              "<Figure size 720x720 with 1 Axes>"
            ],
            "image/png": "[encoded data removed]"
          },
          "metadata": {}
        }
      ]
    }
  ]
}